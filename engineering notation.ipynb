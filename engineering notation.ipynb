{
 "cells": [
  {
   "cell_type": "markdown",
   "metadata": {},
   "source": [
    "# Engineering Notation\n",
    "Engineering notation displays a number in a format where the exponent is always a multiple of 3 and 0>=|mantissa|<1000.\n",
    "\n",
    "This is convenient as it translates well to SI units. For example instead of 2e-02A, it is common to say 20mA. They obviously represent the same value, but an engineer would be more likely to say 20mA than 2e-02A.\n",
    "\n",
    "I have used HP calculators most of my life and generally have used engineering notation in all my university engineering courses and while in industry. \n",
    "\n",
    "HP calculators allow setting the number of digits to the right of the decimal and that feature is included in the function."
   ]
  },
  {
   "cell_type": "code",
   "execution_count": 16,
   "metadata": {},
   "outputs": [],
   "source": [
    "import math"
   ]
  },
  {
   "cell_type": "markdown",
   "metadata": {},
   "source": [
    "# Here's the function"
   ]
  },
  {
   "cell_type": "code",
   "execution_count": 17,
   "metadata": {},
   "outputs": [],
   "source": [
    "def eng_not(num,digits):\n",
    "    # convert a number to a string in engineering format\n",
    "    # (all exponents are multiple of 3, magnitude of the mantissa is >=0 and <1000)\n",
    "    #\n",
    "    # num = number to be converted to eng\n",
    "    # digits = digits right of decimal point\n",
    "    \n",
    "    mag_num = abs(num)\n",
    "    exponent = int(math.log10(mag_num))\n",
    "    engr_exponent = exponent - exponent%3\n",
    "    \n",
    "    if mag_num < 1 and exponent == engr_exponent:\n",
    "        engr_exponent -= 3\n",
    "    \n",
    "    mantissa = mag_num/10**engr_exponent    \n",
    "    sign = '-' if num < 0 else ''\n",
    "    \n",
    "    string = \"{0:1s}{1:3.\" +str(digits) + \"f}E{2:<+3d}\"\n",
    "    eng_not = string.format(sign, mantissa, engr_exponent)\n",
    "    \n",
    "    return eng_not"
   ]
  },
  {
   "cell_type": "markdown",
   "metadata": {},
   "source": [
    "# Here's a demonstration"
   ]
  },
  {
   "cell_type": "code",
   "execution_count": 18,
   "metadata": {},
   "outputs": [
    {
     "name": "stdout",
     "output_type": "stream",
     "text": [
      "              0.1234          123.400E-3 \n",
      "             0.01234           12.340E-3 \n",
      "            0.001234            1.234E-3 \n",
      "           0.0001234          123.400E-6 \n",
      "           1.234e-05           12.340E-6 \n",
      "           1.234e-06            1.234E-6 \n",
      "           1.234e-07          123.400E-9 \n",
      "           1.234e-08           12.340E-9 \n",
      "           1.234e-09            1.234E-9 \n",
      "           1.234e-10          123.400E-12\n",
      "          1.2345e-11           12.345E-12\n"
     ]
    }
   ],
   "source": [
    "numbers = [0.1234,\n",
    "           0.01234,\n",
    "           0.001234,\n",
    "           0.0001234,\n",
    "           0.00001234,\n",
    "           0.000001234,\n",
    "           0.0000001234,\n",
    "           0.00000001234,\n",
    "           0.000000001234,\n",
    "           0.0000000001234,\n",
    "           0.000000000012345,\n",
    "          ]\n",
    "for n in numbers:\n",
    "    print(\"{0: >20} {1: >20}\".format(str(n), eng_not(n,3)))"
   ]
  },
  {
   "cell_type": "markdown",
   "metadata": {},
   "source": [
    "# Here's another demonstration"
   ]
  },
  {
   "cell_type": "code",
   "execution_count": 15,
   "metadata": {},
   "outputs": [
    {
     "name": "stdout",
     "output_type": "stream",
     "text": [
      "                -1.0           -1.000E+0 \n",
      "               -12.0          -12.000E+0 \n",
      "              -123.0         -123.000E+0 \n",
      "             -1234.0           -1.234E+3 \n",
      "            -12345.0          -12.345E+3 \n",
      "           -123456.0         -123.456E+3 \n",
      "          -1234567.0           -1.235E+6 \n",
      "                -0.1         -100.000E-3 \n",
      "               -0.12         -120.000E-3 \n",
      "              -0.123         -123.000E-3 \n",
      "             0.12345          123.450E-3 \n",
      "            0.012345           12.345E-3 \n",
      "           0.0012345            1.234E-3 \n",
      "          0.00012345          123.450E-6 \n",
      "          1.2345e-05           12.345E-6 \n",
      "          1.2345e-10          123.450E-12\n",
      "                   1            1.000E+0 \n",
      "                  12           12.000E+0 \n",
      "                 123          123.000E+0 \n",
      "                1234            1.234E+3 \n",
      "               12345           12.345E+3 \n",
      "           123456781          123.457E+6 \n"
     ]
    }
   ],
   "source": [
    "numbers = [-1.0,\n",
    "           -12.0,\n",
    "           -123.0,\n",
    "           -1234.0,\n",
    "           -12345.0,\n",
    "           -123456.0,\n",
    "           -1234567.0,\n",
    "           -0.1,\n",
    "           -0.12,\n",
    "           -0.123,\n",
    "            0.12345,\n",
    "            0.012345,\n",
    "            0.0012345,\n",
    "            0.00012345,\n",
    "            0.000012345,\n",
    "            0.00000000012345,\n",
    "            1,\n",
    "            12,\n",
    "            123,\n",
    "            1234,\n",
    "            12345,\n",
    "            123456781\n",
    "          ]\n",
    "for n in numbers:\n",
    "    print(\"{0: >20} {1: >20}\".format(str(n), eng_not(n,3)))"
   ]
  },
  {
   "cell_type": "code",
   "execution_count": null,
   "metadata": {},
   "outputs": [],
   "source": []
  }
 ],
 "metadata": {
  "kernelspec": {
   "display_name": "Python 3",
   "language": "python",
   "name": "python3"
  },
  "language_info": {
   "codemirror_mode": {
    "name": "ipython",
    "version": 3
   },
   "file_extension": ".py",
   "mimetype": "text/x-python",
   "name": "python",
   "nbconvert_exporter": "python",
   "pygments_lexer": "ipython3",
   "version": "3.7.3"
  }
 },
 "nbformat": 4,
 "nbformat_minor": 2
}
